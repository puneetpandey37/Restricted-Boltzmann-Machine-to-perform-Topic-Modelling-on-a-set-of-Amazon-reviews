{
 "cells": [
  {
   "cell_type": "markdown",
   "metadata": {},
   "source": [
    "# Restricted Boltzman Machine \n",
    "\n",
    "A restricted Boltzmann Machine is an \"Energy Based\" generative stochastic model. They were initially invented by Paul Smolensky in 1986 and were called \"Harmonium\". After the evolution of training algorithms in the mid 2000's by Geoffrey Hinton, the boltzman machine became more prominent. They gained big popularity in recent years in the context of the Netflix Prize where RBMs achieved state of the art performance in collaborative filtering and have beaten most of the competition.\n",
    "\n",
    "RBM's are useful for dimensionality reduction, classification, regression, collaborative filtering, feature learning and topic modeling. \n"
   ]
  },
  {
   "cell_type": "markdown",
   "metadata": {},
   "source": [
    "## Architecture\n",
    "RBMs are shallow, two-layer neural nets that constitute the building blocks of deep-belief networks. The first layer of the RBM is called the visible, or input, layer, and the second is the hidden layer. The absense of an output layer is apparent. As we move forward we would learn why the output layer won't be needed.\n",
    "<img src=\"figure1.png\" width=\"150\" height=\"50\" title=\"Layers in RBM\">\n",
    "Figure1: Layers in RBM\n",
    "Each circle in the figure above represents a neuron-like unit called a node, and nodes are simply where calculations take place. \n",
    "<img src=\"figure3.png\" width=\"500\" height=\"200\" title=\"Layers in RBM\">\n",
    "Figure2: Structure of RBM\n",
    "The nodes are connected to each other across layers, but no two nodes of the same layer are linked. That is, there is no intra-layer communication – this is the restriction in a restricted Boltzmann machine. Each node is a locus of computation that processes input, and begins by making stochastic decisions about whether to transmit that input or not. Each visible node takes a low-level feature from an item in the dataset to be learned."
   ]
  },
  {
   "cell_type": "markdown",
   "metadata": {},
   "source": [
    "Let's start by importing the packages that will be required in this project."
   ]
  },
  {
   "cell_type": "code",
   "execution_count": 43,
   "metadata": {},
   "outputs": [
    {
     "data": {
      "text/plain": [
       "{'divide': 'ignore', 'over': 'warn', 'under': 'ignore', 'invalid': 'ignore'}"
      ]
     },
     "execution_count": 43,
     "metadata": {},
     "output_type": "execute_result"
    }
   ],
   "source": [
    "import numpy as np\n",
    "from collections import Counter, defaultdict\n",
    "import pandas as pd\n",
    "from scipy.sparse import coo_matrix, hstack\n",
    "from sklearn.feature_extraction.text import CountVectorizer\n",
    "import xlrd\n",
    "import re\n",
    "np_rng = np.random.RandomState(1234) #setting the random state\n",
    "np.seterr(divide='ignore', invalid='ignore')"
   ]
  },
  {
   "cell_type": "code",
   "execution_count": 44,
   "metadata": {},
   "outputs": [],
   "source": [
    "# graded\n",
    "# import data\n",
    "\n",
    "df = pd.read_excel('amazon.xlsx')"
   ]
  },
  {
   "cell_type": "code",
   "execution_count": 45,
   "metadata": {},
   "outputs": [
    {
     "data": {
      "text/html": [
       "<div>\n",
       "<style scoped>\n",
       "    .dataframe tbody tr th:only-of-type {\n",
       "        vertical-align: middle;\n",
       "    }\n",
       "\n",
       "    .dataframe tbody tr th {\n",
       "        vertical-align: top;\n",
       "    }\n",
       "\n",
       "    .dataframe thead th {\n",
       "        text-align: right;\n",
       "    }\n",
       "</style>\n",
       "<table border=\"1\" class=\"dataframe\">\n",
       "  <thead>\n",
       "    <tr style=\"text-align: right;\">\n",
       "      <th></th>\n",
       "      <th>Text</th>\n",
       "    </tr>\n",
       "  </thead>\n",
       "  <tbody>\n",
       "    <tr>\n",
       "      <th>0</th>\n",
       "      <td>So there is no way for me to plug it in here i...</td>\n",
       "    </tr>\n",
       "    <tr>\n",
       "      <th>1</th>\n",
       "      <td>Good case, Excellent value.</td>\n",
       "    </tr>\n",
       "    <tr>\n",
       "      <th>2</th>\n",
       "      <td>Great for the jawbone.</td>\n",
       "    </tr>\n",
       "    <tr>\n",
       "      <th>3</th>\n",
       "      <td>Tied to charger for conversations lasting more...</td>\n",
       "    </tr>\n",
       "    <tr>\n",
       "      <th>4</th>\n",
       "      <td>The mic is great.</td>\n",
       "    </tr>\n",
       "  </tbody>\n",
       "</table>\n",
       "</div>"
      ],
      "text/plain": [
       "                                                Text\n",
       "0  So there is no way for me to plug it in here i...\n",
       "1                        Good case, Excellent value.\n",
       "2                             Great for the jawbone.\n",
       "3  Tied to charger for conversations lasting more...\n",
       "4                                  The mic is great."
      ]
     },
     "execution_count": 45,
     "metadata": {},
     "output_type": "execute_result"
    }
   ],
   "source": [
    "#run this and check if you have got the correct output\n",
    "df.head()"
   ]
  },
  {
   "cell_type": "markdown",
   "metadata": {},
   "source": [
    "In Topic Modelling, you find the best set of topics that describe the document. There are various ways to perform topic modelling one of which is RBM. You train your RBM on a set of documents. \n",
    "The visible layers will be the words in the text, the hidden layers will give the Topics. \n",
    "To input words into the visible layer, let's convert the train and test data you split above into a bag of words model."
   ]
  },
  {
   "cell_type": "code",
   "execution_count": 46,
   "metadata": {},
   "outputs": [],
   "source": [
    "#graded\n",
    "# create bag of words model on train and test data\n",
    "\n",
    "tf = CountVectorizer(lowercase=True, stop_words=None, max_df=50) #the final shape should be (number of documents, vocabulary)\n",
    "\n",
    "# fit tf on the dataframe df\n",
    "tf.fit(df['Text'])\n",
    "\n",
    "# transform df dataframe\n",
    "trainX = tf.transform(df['Text'])"
   ]
  },
  {
   "cell_type": "code",
   "execution_count": 47,
   "metadata": {},
   "outputs": [
    {
     "name": "stdout",
     "output_type": "stream",
     "text": [
      "3\n"
     ]
    },
    {
     "data": {
      "text/plain": [
       "(1000, 1825)"
      ]
     },
     "execution_count": 47,
     "metadata": {},
     "output_type": "execute_result"
    }
   ],
   "source": [
    "#check if you are getting the correct output\n",
    "print(sum(trainX.toarray()[1]))\n",
    "trainX.shape"
   ]
  },
  {
   "cell_type": "markdown",
   "metadata": {},
   "source": [
    "You should get:\n",
    "<br>\n",
    "\n",
    "3 <br>\n",
    "(1000, 1825)"
   ]
  },
  {
   "cell_type": "markdown",
   "metadata": {},
   "source": [
    "Now that you have the bag of words model, let's define the number of visible and hidden units."
   ]
  },
  {
   "cell_type": "code",
   "execution_count": 48,
   "metadata": {},
   "outputs": [],
   "source": [
    "#graded\n",
    "# define visible units\n",
    "visibleUnits = trainX.shape[1] # vocabulary size ~1 line\n",
    "\n",
    "# assign number of units\n",
    "hiddenUnits = 5 # hyperparameter, this means that we are looking for 5 topics"
   ]
  },
  {
   "cell_type": "code",
   "execution_count": 49,
   "metadata": {},
   "outputs": [
    {
     "data": {
      "text/plain": [
       "1825"
      ]
     },
     "execution_count": 49,
     "metadata": {},
     "output_type": "execute_result"
    }
   ],
   "source": [
    "visibleUnits"
   ]
  },
  {
   "cell_type": "code",
   "execution_count": 50,
   "metadata": {},
   "outputs": [],
   "source": [
    "#graded\n",
    "# utility Functions\n",
    "\n",
    "# deine the sigmoid function\n",
    "def sigmoid(X):\n",
    "    return 1 / (1 + np.exp(-X)) # ~ 1 line"
   ]
  },
  {
   "cell_type": "markdown",
   "metadata": {},
   "source": [
    "## RBM as a Probabilistic Model\n",
    "Restricted Boltzmann Machines are probabilistic. As opposed to assigning discrete values the model assigns probabilities. At each point in time the RBM is in a certain state. The state refers to the values of neurons in the visible and hidden layers v and h. The probability that a certain state of v and h can be observed is given by the following joint distribution:\n",
    "<img src=\"figure4.png\" width=\"200\" height=\"70\" title=\"Layers in RBM\">\n",
    "\n",
    "Eq. 2. Joint Distribution for v and h.\n",
    "Here Z is called the ‘partition function’ that is the summation over all possible pairs of visible and hidden vectors."
   ]
  },
  {
   "cell_type": "markdown",
   "metadata": {},
   "source": [
    "The joint distribution is known as the Boltzmann Distribution which gives the probability that a particle can be observed in the state with the energy E. Unfortunately it is very difficult to calculate the joint probability due to the huge number of possible combination of v and h in the partition function Z. Much easier is the calculation of the conditional probabilities of state h given the state v and conditional probabilities of state v given the state h:\n",
    "<img src=\"figure5.png\" width=\"200\" height=\"70\" title=\"Layers in RBM\">\n",
    "\n",
    "Eq. 3. Conditional probabilities for h and v.\n",
    "It should be noticed beforehand (before demonstrating this fact on practical example) that each neuron in a RBM can only exist in a binary state of 0 or 1. The most interesting factor is the probability that a hidden or visible layer neuron is in the state 1 — hence activated. "
   ]
  },
  {
   "cell_type": "markdown",
   "metadata": {},
   "source": [
    "# Contrastive Divergence\n",
    "\n",
    "### Gibbs Sampling\n",
    "The first part of the training is called Gibbs Sampling. Given an input vector v we are using p(h|v) for prediction of the hidden values h via sampling. Knowing the hidden values we use p(v|h) for prediction of new input values v via sampling. This process is repeated k times. After k iterations, we obtain the visible vector $v_k$ which was recreated from original input values $v_0$.\n",
    "<img src=\"figure8.png\" width=\"500\" height=\"300\" title=\"Layers in RBM\">"
   ]
  },
  {
   "cell_type": "markdown",
   "metadata": {},
   "source": [
    "The gibbs function *gibbs* is divided into subparts: <br>\n",
    "1.*sampleHiddenLayer * <br>\n",
    "2.*sampleVisibleLayer*\n",
    "\n",
    "Let's look at *sampleHiddenLayer* now.\n",
    "\n",
    "### Sample Hidden Layer"
   ]
  },
  {
   "cell_type": "markdown",
   "metadata": {},
   "source": [
    "You already know that given an input vector v the probability for a single hidden neuron j being activated is:\n",
    "<img src=\"figure6.png\" width=\"400\" height=\"200\" title=\"Layers in RBM\">\n",
    "\n",
    "Eq. 4\n",
    "Here is σ the Sigmoid function.\n",
    "\n",
    "*sampleHiddenLayer* takes the visible layer as input to calculate the hidden layer using Eq. 4 *h1Pdf* and then samples it to get * h1_sample*\n",
    "\n",
    "    v_sample: given visible layer matrix; matrix because a batch of data points will be trained at one go\n",
    "    returns a sample vector of hidden layer and its distribution for a batch of data points\n",
    "    \n",
    "    hPdf: distribution of hidden layer; a matrix for batch of datapoints = p(h|v)\n",
    "    h_sample: sampled hidden layer matrix"
   ]
  },
  {
   "cell_type": "code",
   "execution_count": 51,
   "metadata": {},
   "outputs": [],
   "source": [
    "#graded\n",
    "def sampleHiddenLayer(v_sample):\n",
    "    \n",
    "    # write the code for calculation of hPdf using vectorized implementation of Eq 4\n",
    "    hPdf = sigmoid(np.dot(v_sample, W) + hiddenBias) # ~ 1 line\n",
    "    \n",
    "    # Here, np.random.binomial is used to create the hidden layer sample matrix\n",
    "    h_sample = np_rng.binomial(size=hPdf.shape, n=1, p=hPdf)\n",
    "    return [hPdf, h_sample]"
   ]
  },
  {
   "cell_type": "markdown",
   "metadata": {},
   "source": [
    "### Sample Visible Layer\n",
    "Similarly, the probability that a binary state of a visible neuron i is set to 1 is:\n",
    "<img src=\"figure7.png\" width=\"400\" height=\"200\" title=\"Layers in RBM\">\n",
    "Eq. 5\n",
    "\n",
    "As seen in equation 5, we will be writing a function to sample the Visible Layer.\n",
    "This function samples the visible layer based on the sampled data of hidden layer. <br>\n",
    "\n",
    "There are some differences in writing the function *sampleVisibleLayer*. <br>Firstly, we use np.random.multinomial to sample the visible layer *v_sample* from the distribution *vPdf*. <br>Secondly,elements of *vPdf* needs to sum to 1 as the function np.random.multinomial used to sample the visible layer takes on probability distributions as *pvals*. In other words, you are finding the softmax values. <br> Thirdly, we also make use of the *D* to sample the visible layer as each document has different word count.\n",
    "    \n",
    "    h_sample: given hidden layer matrix; matrix because a batch of data points will be trained at one go\n",
    "    D: array of the sum of the row of the data vector; vector containing number of words in each document\n",
    "    \n",
    "    returns a sample vector of hidden layer and its distribution for a batch of data points\n",
    "    \n",
    "    vPdf: distribution of visible layer; a matrix for batch of datapoints = p(v|h)\n",
    "    v_sample: sampled visible layer matrix\n",
    "    "
   ]
  },
  {
   "cell_type": "code",
   "execution_count": 52,
   "metadata": {},
   "outputs": [],
   "source": [
    "#graded\n",
    "def sampleVisibleLayer(h_sample, D):\n",
    "    \n",
    "    # complete the following function such that vPdf has the sum of entries equal to 1 for each of the datapoints in the batch\n",
    "    # you have to use axis = 1 in writing the denominator\n",
    "\n",
    "    numerator = np.exp(np.add(np.dot(h_sample, W.T),visibleBias)) # ~1 line\n",
    "    denominator = numerator.sum(axis=1).reshape((batchSize, 1)) # ~1 line\n",
    "    vPdf = numerator/denominator # ~1 line\n",
    "       \n",
    "    # Here np.random.multinomial is used to sample as each document has different number of words \n",
    "    # and hence D is also a parameter in sampling\n",
    "    v_sample = np.zeros((batchSize, vPdf.shape[1]))\n",
    "    for i in range(batchSize):\n",
    "        v_sample[i] = np_rng.multinomial(size=1, n=D[i], pvals=vPdf[i])\n",
    "    return [vPdf, v_sample]"
   ]
  },
  {
   "cell_type": "code",
   "execution_count": 53,
   "metadata": {},
   "outputs": [],
   "source": [
    "#graded\n",
    "def sampleVisibleLayer_sigmoid(h_sample, D):\n",
    "    \n",
    "    # complete the following function such that vPdf has the sum of entries equal to 1 for each of the datapoints in the batch\n",
    "    # you have to use axis = 1 in writing the denominator\n",
    "    \n",
    "    numerator = sigmoid(np.dot(h_sample, W.T) + visibleBias) # ~1 line\n",
    "    denominator = numerator.sum(axis=1).reshape(h_sample.shape[0],1) # ~1 line\n",
    "    vPdf = numerator / denominator # ~1 line\n",
    "    \n",
    "    # Here np.random.multinomial is used to sample as each document has different number of words \n",
    "    # and hence D is also a parameter in sampling\n",
    "    v_sample = np.zeros((batchSize, vPdf.shape[1]))\n",
    "    for i in range(batchSize):\n",
    "        v_sample[i] = np_rng.multinomial(size=1, n=D[i], pvals=vPdf[i])\n",
    "    return [vPdf, v_sample]"
   ]
  },
  {
   "cell_type": "markdown",
   "metadata": {},
   "source": [
    "### Sampling"
   ]
  },
  {
   "cell_type": "markdown",
   "metadata": {},
   "source": [
    "We use the above functions to write the function *gibbs* to run one iteration of gibbs sampling. Note that we are calculating the visible layer samples first and then using it to calculate he hidden layer sample. It'll become clear soon why we are doing so when you write the function for Contrastive Divergence.\n",
    "    \n",
    "    Input:\n",
    "    h_sample: given hidden layer matrix; matrix because a batch of data points will be trained at one go\n",
    "    D: array of the sum of the row of the data vector; vector containing number of words in each document\n",
    "    \n",
    "    Output:\n",
    "    vPdf: distribution of visible layer\n",
    "    v_sample: sampled visible layer matrix\n",
    "    hPdf: distribution of hidden layer\n",
    "    h_sample: sampled hidden layer matrix"
   ]
  },
  {
   "cell_type": "code",
   "execution_count": 54,
   "metadata": {},
   "outputs": [],
   "source": [
    "#graded\n",
    "def gibbs(h_sample, D):\n",
    "    \n",
    "    #use sampleVIsibleLayer and sampleHiddenLayer \n",
    "    vPdf, v_sample = sampleVisibleLayer(h_sample, D) # ~1 line\n",
    "    hPdf, h_sample = sampleHiddenLayer(v_sample) # ~1 line\n",
    "    return [vPdf, v_sample, hPdf, h_sample ]"
   ]
  },
  {
   "cell_type": "markdown",
   "metadata": {},
   "source": [
    "\n",
    "### Contrastive Divergence\n",
    "\n",
    "You have learned that Contrastive Divergence updates weights after one iteration of Gibbs Sampling. Here, we shall perform *k* such iterations in Contrastive Divergence. \n",
    "The update of the weight matrix happens post the Contrastive Divergence step. "
   ]
  },
  {
   "cell_type": "markdown",
   "metadata": {},
   "source": [
    "\n",
    "Now, we will writing a funtion to run the contrastive divergence algorithm in k steps\n",
    "    \n",
    "    Input:\n",
    "    data: batch data (visible layer)\n",
    "    k: no of iterations for gibbs sampling\n",
    "    \n",
    "    Output:\n",
    "    hiddenPDF_data: distribution of the hidden layer based on data\n",
    "    visibleSamples: visible samples generated by gibbs sampling \n",
    "    hiddenPDF: distribution of the hidden layer based on samples generated by gibbs"
   ]
  },
  {
   "cell_type": "code",
   "execution_count": 55,
   "metadata": {},
   "outputs": [],
   "source": [
    "#graded\n",
    "def cd_k(data,k):\n",
    "    \n",
    "    D = data.sum(axis=1)\n",
    "    hiddenPDF_data, hiddenSample_data = sampleHiddenLayer(data) # sample the hidden layer using the input data\n",
    "    chain_start = hiddenSample_data\n",
    "\n",
    "    for step in range(k):\n",
    "        if step == 0:\n",
    "            visiblePDF, visibleSamples, hiddenPDF, hiddenSamples  = gibbs(chain_start, D) # perform gibbs sampling using chain_start\n",
    "        else:\n",
    "            visiblePDF, visibleSamples, hiddenPDF, hiddenSamples = gibbs(hiddenSamples, D) # perform gibbs sampling using hiddenSamples\n",
    "    return hiddenPDF_data, visibleSamples, hiddenPDF\n"
   ]
  },
  {
   "cell_type": "markdown",
   "metadata": {},
   "source": [
    "## Training the Model\n",
    "\n",
    "Vectors $v_0$ and $v_k$ are used to calculate the activation probabilities for hidden layers $p(h_0|v_0)$ and $p(h_k|v_k)$ (Eq.4). The difference between the outer products of those probabilities with input vectors $v_0$ and $v_k$ results in the update matrix:\n",
    "<img src=\"figure9.png\" width=\"300\" height=\"200\" title=\"Layers in RBM\">\n",
    "Eq. 6. Update matrix. **Figure out** the vectorized implementation for this.\n",
    "\n",
    "In order to calculate $\\Delta (bias)$, <br>\n",
    "<center>$\\Delta (visiblebias) = average\\_ across\\_ batch(v_0 - v_k)$ </center> \n",
    "<center>$\\Delta (hiddenbias) = average\\_across\\_ batch(p(h_0|v_0) - p(h_k|v_k))$ </center> \n",
    "\n",
    "Using the update matrix the new weights can be calculated with momentum gradient ascent, given by:\n",
    "<center>  $mW_t = \\gamma \\ mW_{t-1} - \\Delta W$</center> \n",
    "<center>  $mvisiblebias_t = \\gamma \\ mvisiblebias_{t-1} - \\Delta visiblebias$</center>\n",
    "<center>  $mhiddenbias_t = \\gamma \\ mhiddenbias_{t-1} - \\Delta hiddenbias$</center><br>\n",
    "<center>  $W_t = W_{t-1} + \\alpha \\ mW_t$</center> \n",
    "<center>  $visiblebias_t = visiblebias_{t-1} + \\alpha \\ mvisiblebias_t$</center> \n",
    "<center>  $hiddenbias_t = hiddenbias_{t-1} + \\alpha \\ mhiddenbias_t$</center> \n",
    "\n",
    "\n",
    "Eq. 7. Update rule for the weights.\n",
    "\n",
    "Note that in the code implementation below <br>\n",
    " hiddenPDF_data is $p(h_0|v_0)$ <br>\n",
    " visibleSamples is $v_k$ <br>\n",
    " hiddenPDF is $p(h_k|v_k)$ <br>\n",
    " mdata is $v_0$ <br>\n",
    " eta is $\\alpha$ <br>\n",
    " mrate is $\\gamma$ <br>\n",
    "These will be helpful in writing the weight updates.\n",
    "\n",
    "In this we will write a function which iterates over our data for *epochs*.\n",
    "At every epoch we shuffle the data and then run CD on a mini batch size defined by *batchSize*"
   ]
  },
  {
   "cell_type": "markdown",
   "metadata": {},
   "source": [
    "### Initializations"
   ]
  },
  {
   "cell_type": "code",
   "execution_count": 56,
   "metadata": {},
   "outputs": [],
   "source": [
    "\"\"\"\n",
    "visibleUnits: no of words in your Bag of words Model\n",
    "hiddenUnits: no of topics\n",
    "batchSize: data slice to be selected \n",
    "epochs: no of iterations\n",
    "eta: learning rate\n",
    "mrate: momentum coefficient\n",
    "W : weights between the visible and hidden layer\n",
    "visibleBias, hiddenBias: biases for visible and hidden layer respectively\n",
    "\"\"\"\n",
    "\n",
    "# define batch size\n",
    "batchSize = 200\n",
    "\n",
    "epochs = 100\n",
    "eta = 0.05 \n",
    "mrate = 0.5\n",
    "\n",
    "# initialise weights\n",
    "weightinit=0.01\n",
    "W = weightinit * np_rng.randn(visibleUnits, hiddenUnits)\n",
    "visibleBias = weightinit * np_rng.randn(visibleUnits)\n",
    "hiddenBias = np.zeros((hiddenUnits))\n",
    "\n",
    "# we shall use 10 interations of gibbs sampling\n",
    "k=10"
   ]
  },
  {
   "cell_type": "markdown",
   "metadata": {},
   "source": [
    "### Training"
   ]
  },
  {
   "cell_type": "markdown",
   "metadata": {},
   "source": [
    "#### train with Gradient Ascent momentum updates. <br>\n",
    "    𝑚𝑊(𝑡) = 𝛾 𝑚𝑊(𝑡−1) + Δ𝑊 <br>\n",
    "    𝑚𝑣𝑖𝑠𝑖𝑏𝑙𝑒𝑏𝑖𝑎𝑠(𝑡) = 𝛾 * 𝑚𝑣𝑖𝑠𝑖𝑏𝑙𝑒𝑏𝑖𝑎𝑠(𝑡-1) + Δ𝑣𝑖𝑠𝑖𝑏𝑙𝑒𝑏𝑖𝑎𝑠 <br>\n",
    "    𝑚ℎ𝑖𝑑𝑑𝑒𝑛𝑏𝑖𝑎𝑠(𝑡) = 𝛾 * 𝑚ℎ𝑖𝑑𝑑𝑒𝑛𝑏𝑖𝑎𝑠(𝑡−1) + Δℎ𝑖𝑑𝑑𝑒𝑛𝑏𝑖𝑎𝑠 <br>"
   ]
  },
  {
   "cell_type": "code",
   "execution_count": 57,
   "metadata": {},
   "outputs": [],
   "source": [
    "#graded\n",
    "def train_momentum_gradient_ascent(dataX,k):\n",
    "\n",
    "    mW = np.zeros((visibleUnits, hiddenUnits)) # initialise momentum_weights\n",
    "    mvisibleBias = np.zeros((visibleUnits)) # initialise momentum_visiblebiases\n",
    "    mhiddenBias = np.zeros((hiddenUnits)) # initialise momentum_hiddenbiases\n",
    "    \n",
    "    global W,visibleBias,hiddenBias,mrate,batchSize,epochs # calling the variables initiliazed at the begining\n",
    "        \n",
    "    for epoch in range(epochs):\n",
    "        np_rng.shuffle(dataX) #shuffling the data\n",
    "        \n",
    "        for i in range(0, dataX.shape[0], batchSize):\n",
    "            mData = dataX[i: i + batchSize] #select a batch of datapoints\n",
    "            hiddenPDF_data, visibleSamples, hiddenPDF = cd_k(mData,k) # perfrom Contrastive Divergence on the batch for k iterations\n",
    "\n",
    "            dW = (np.dot(mData.T, hiddenPDF_data)) - (np.dot(visibleSamples.T, hiddenPDF))\n",
    "            mW = mrate * mW + dW #write the momentum update equation for weight matrix\n",
    "            \n",
    "            dvisibleBias = np.mean(mData - visibleSamples, axis=0)\n",
    "            mvisibleBias = mrate * mvisibleBias + dvisibleBias #write the momentum update equation for visiblebias vector\n",
    "            \n",
    "            dhiddenBias = np.mean(hiddenPDF_data - hiddenPDF, axis=0)\n",
    "            mhiddenBias = mrate * mhiddenBias + dhiddenBias #write the momentum update equation for hiddenbias vector\n",
    "\n",
    "            W = W + (eta * mW) #weight update equation\n",
    "            visibleBias = visibleBias + (eta * mvisibleBias) #visible bias update equation\n",
    "            hiddenBias = hiddenBias + (eta * mhiddenBias) #hidden bias update equation"
   ]
  },
  {
   "cell_type": "markdown",
   "metadata": {},
   "source": [
    "#### train with Gradient Descent momentum updates. <br>\n",
    "    𝑚𝑊(𝑡) = 𝛾 𝑚𝑊(𝑡−1) - Δ𝑊 <br>\n",
    "    𝑚𝑣𝑖𝑠𝑖𝑏𝑙𝑒𝑏𝑖𝑎𝑠(𝑡) = 𝛾 * 𝑚𝑣𝑖𝑠𝑖𝑏𝑙𝑒𝑏𝑖𝑎𝑠(𝑡-1) - Δ𝑣𝑖𝑠𝑖𝑏𝑙𝑒𝑏𝑖𝑎𝑠 <br>\n",
    "    𝑚ℎ𝑖𝑑𝑑𝑒𝑛𝑏𝑖𝑎𝑠(𝑡) = 𝛾 * 𝑚ℎ𝑖𝑑𝑑𝑒𝑛𝑏𝑖𝑎𝑠(𝑡−1) - Δℎ𝑖𝑑𝑑𝑒𝑛𝑏𝑖𝑎𝑠 <br>"
   ]
  },
  {
   "cell_type": "code",
   "execution_count": 58,
   "metadata": {},
   "outputs": [],
   "source": [
    "#graded\n",
    "def train_momentum_gradient_descent(dataX,k):\n",
    "    \n",
    "    mW = np.zeros((visibleUnits, hiddenUnits)) # initialise momentum_weights\n",
    "    mvisibleBias = np.zeros((visibleUnits)) # initialise momentum_visiblebiases\n",
    "    mhiddenBias = np.zeros((hiddenUnits)) # initialise momentum_hiddenbiases\n",
    "    \n",
    "    global W,visibleBias,hiddenBias,mrate,batchSize,epochs # calling the variables initiliazed at the begining\n",
    "        \n",
    "    for epoch in range(epochs):\n",
    "        np_rng.shuffle(dataX) #shuffling the data\n",
    "        \n",
    "        for i in range(0, dataX.shape[0], batchSize):\n",
    "            mData = dataX[i: i + batchSize] #select a batch of datapoints\n",
    "            hiddenPDF_data, visibleSamples, hiddenPDF = cd_k(mData,k) # perfrom Contrastive Divergence on the batch for k iterations\n",
    "\n",
    "            dW = (np.dot(mData.T, hiddenPDF_data)) - (np.dot(visibleSamples.T, hiddenPDF))\n",
    "            mW = mrate * np.average((mW - dW), axis=0) #write the momentum update equation for weight matrix\n",
    "            \n",
    "            dvisibleBias = np.average((mData - visibleSamples), axis=0)\n",
    "            mvisibleBias = mrate * np.average((mvisibleBias - dvisibleBias), axis=0) #write the momentum update equation for visiblebias vector\n",
    "            \n",
    "            dhiddenBias = np.average((hiddenPDF_data - hiddenPDF), axis=0)\n",
    "            mhiddenBias = mrate * np.average((mhiddenBias - dhiddenBias), axis=0) #write the momentum update equation for hiddenbias vector\n",
    "\n",
    "            W = W + (eta * mW) #weight update equation\n",
    "            visibleBias = visibleBias + (eta * mvisibleBias) #visible bias update equation\n",
    "            hiddenBias = hiddenBias + (eta * mhiddenBias) #hidden bias update equation"
   ]
  },
  {
   "cell_type": "markdown",
   "metadata": {},
   "source": [
    "## Train the Model\n",
    "\n",
    "This will take around 10 minutes of time to run."
   ]
  },
  {
   "cell_type": "markdown",
   "metadata": {},
   "source": [
    "# Please note: This is one experiment, we can comment out this and run \"train_momentum_gradient_descent\" "
   ]
  },
  {
   "cell_type": "code",
   "execution_count": 59,
   "metadata": {},
   "outputs": [],
   "source": [
    "train_momentum_gradient_ascent(trainX.toarray(),k)"
   ]
  },
  {
   "cell_type": "markdown",
   "metadata": {},
   "source": [
    "# Word Distribution based on Topics\n",
    "In this function, we are finding the distribution of words over the topics. You can take a look at the words under each topic and see what they are talking about. The number of topics is the number of neurons in the hidden layer. <br>\n",
    "<br>\n",
    "\n",
    "For each topic, the function prints the top 15 words that describe the topic. You can see that some of the words occur in multiple topics.\n",
    "\n",
    "    topic: number of hidden layers\n",
    "    voc: indexing of the vocabulary\n",
    "    \n",
    "Feel free to change the number of iterations of gibbs sampling in Contrastive Divergence and see how the distribution of words change under the topics."
   ]
  },
  {
   "cell_type": "code",
   "execution_count": 18,
   "metadata": {},
   "outputs": [],
   "source": [
    "def worddist_momentum_gradient_ascent( topic, voc):\n",
    "    \n",
    "    \"\"\"\n",
    "    Initialize every topic =1 once \n",
    "    \"\"\"\n",
    "    vecTopics = np.zeros((topic, topic))\n",
    "    for i in range(len(vecTopics)):\n",
    "        vecTopics[i][i] = 1\n",
    "    \n",
    "    \n",
    "    for i, vecTopic in enumerate(vecTopics):\n",
    "       \n",
    "        numerator = np.exp(np.dot(vecTopic, W.T) + visibleBias)\n",
    "        denominator = numerator.sum().reshape((1, 1))\n",
    "        word_distribution = (numerator/denominator).flatten()\n",
    "        \n",
    "        tmpDict = {}\n",
    "        for j in voc.keys():\n",
    "            tmpDict[j] = word_distribution[voc[j]]\n",
    "        print('topic', str(i), ':', vecTopic)\n",
    "        lm=0\n",
    "        for word, prob in sorted(tmpDict.items(), key=lambda x:x[1], reverse=True):\n",
    "            print ( word, str(prob))\n",
    "            lm+=1\n",
    "            if lm==15:\n",
    "                break\n",
    "        print('\\n')"
   ]
  },
  {
   "cell_type": "code",
   "execution_count": 60,
   "metadata": {},
   "outputs": [
    {
     "name": "stdout",
     "output_type": "stream",
     "text": [
      "topic 0 : [1. 0. 0. 0. 0.]\n",
      "are 0.09846729126499687\n",
      "buttons 0.03977355072095067\n",
      "difficult 0.01927042121015387\n",
      "does 0.012432171299085627\n",
      "small 0.012360215144315104\n",
      "design 0.010501554062769362\n",
      "push 0.00974945173177882\n",
      "money 0.009618859349347142\n",
      "placed 0.007579889772820739\n",
      "must 0.0072397690316215214\n",
      "games 0.006849097443819297\n",
      "chargers 0.006603414417101872\n",
      "most 0.006408277920827392\n",
      "flaw 0.006329244022626267\n",
      "however 0.006144279754054449\n",
      "\n",
      "\n",
      "topic 1 : [0. 1. 0. 0. 0.]\n",
      "horrible 0.05638313018375491\n",
      "been 0.024480892424687078\n",
      "coverage 0.024319601560330334\n",
      "quality 0.020710308149476605\n",
      "sound 0.018278871633909073\n",
      "around 0.01797884327481561\n",
      "protector 0.017005162795630933\n",
      "best 0.013722338130619339\n",
      "house 0.012250205312241238\n",
      "disappointing 0.009858764606005797\n",
      "poor 0.008492280708861558\n",
      "electronics 0.007428460119798572\n",
      "fm 0.0070632398962161055\n",
      "transmitters 0.006702595918919044\n",
      "carries 0.006262239650545937\n",
      "\n",
      "\n",
      "topic 2 : [0. 0. 1. 0. 0.]\n",
      "works 0.030699957359907964\n",
      "all 0.027336769946670038\n",
      "at 0.019988970100736806\n",
      "but 0.01574902292901773\n",
      "well 0.011835327896154189\n",
      "as 0.010536175282248726\n",
      "battery 0.009811463003102304\n",
      "or 0.009637862213740531\n",
      "if 0.009125339960351055\n",
      "one 0.009072159474951243\n",
      "had 0.009069620648510888\n",
      "an 0.008927495085546229\n",
      "any 0.008329567782218364\n",
      "out 0.008196537614328654\n",
      "which 0.007387788505664596\n",
      "\n",
      "\n",
      "topic 3 : [0. 0. 0. 1. 0.]\n",
      "its 0.03181240762717297\n",
      "keyboard 0.01849549148941474\n",
      "excellent 0.015034387467655778\n",
      "free 0.014966949040260386\n",
      "network 0.013567489311787464\n",
      "pda 0.013060880893979419\n",
      "division 0.0124658156952791\n",
      "what 0.00991161165066172\n",
      "pc 0.009780103407653007\n",
      "love 0.009768793918895432\n",
      "survived 0.009209439412030519\n",
      "full 0.008694757433452516\n",
      "waste 0.008578171473985327\n",
      "friendly 0.008224462907031053\n",
      "rocks 0.007830021953187823\n",
      "\n",
      "\n",
      "topic 4 : [0. 0. 0. 0. 1.]\n",
      "disappointed 0.08596057637677838\n",
      "kind 0.019755549902295267\n",
      "software 0.016623078598590076\n",
      "wind 0.013724898658256168\n",
      "star 0.012706286136636026\n",
      "charging 0.011417041129544179\n",
      "accompanied 0.0111037366100947\n",
      "three 0.008810163554818725\n",
      "brilliant 0.008577484673507713\n",
      "takes 0.006867966414182408\n",
      "broke 0.006507795097613444\n",
      "yet 0.006342485915845479\n",
      "did 0.006212822229204793\n",
      "stuff 0.005722271182529247\n",
      "motorolas 0.005414765480808285\n",
      "\n",
      "\n"
     ]
    }
   ],
   "source": [
    "worddist_momentum_gradient_ascent( hiddenUnits, tf.vocabulary_)"
   ]
  },
  {
   "cell_type": "markdown",
   "metadata": {},
   "source": [
    "# Please note: here the momentum weight and biases are calculated as suggested in the provided notebook"
   ]
  },
  {
   "cell_type": "code",
   "execution_count": 40,
   "metadata": {},
   "outputs": [],
   "source": [
    "train_momentum_gradient_descent(trainX.toarray(),k)"
   ]
  },
  {
   "cell_type": "code",
   "execution_count": 41,
   "metadata": {},
   "outputs": [],
   "source": [
    "def worddist_momentum_gradient_descent( topic, voc):\n",
    "    \n",
    "    \"\"\"\n",
    "    Initialize every topic =1 once \n",
    "    \"\"\"\n",
    "    vecTopics = np.zeros((topic, topic))\n",
    "    for i in range(len(vecTopics)):\n",
    "        vecTopics[i][i] = 1\n",
    "    \n",
    "    \n",
    "    for i, vecTopic in enumerate(vecTopics):\n",
    "       \n",
    "        numerator = np.exp(np.dot(vecTopic, W.T) + visibleBias)\n",
    "        denominator = numerator.sum().reshape((1, 1))\n",
    "        word_distribution = (numerator/denominator).flatten()\n",
    "        \n",
    "        tmpDict = {}\n",
    "        for j in voc.keys():\n",
    "            tmpDict[j] = word_distribution[voc[j]]\n",
    "        print('topic', str(i), ':', vecTopic)\n",
    "        lm=0\n",
    "        for word, prob in sorted(tmpDict.items(), key=lambda x:x[1], reverse=True):\n",
    "            print ( word, str(prob))\n",
    "            lm+=1\n",
    "            if lm==15:\n",
    "                break\n",
    "        print('\\n')"
   ]
  },
  {
   "cell_type": "code",
   "execution_count": 42,
   "metadata": {},
   "outputs": [
    {
     "name": "stdout",
     "output_type": "stream",
     "text": [
      "topic 0 : [1. 0. 0. 0. 0.]\n",
      "use 0.0015923513666200365\n",
      "from 0.0013379514858128851\n",
      "as 0.0012798966666805484\n",
      "quality 0.0012433627216250143\n",
      "when 0.0012239738803235408\n",
      "well 0.0012151294781422293\n",
      "long 0.0011870237553553284\n",
      "but 0.0011740797952411854\n",
      "one 0.0011311851153323442\n",
      "even 0.0011235282117988375\n",
      "problem 0.001118325408614425\n",
      "too 0.0011114726376455564\n",
      "now 0.0011059778318069317\n",
      "so 0.0011039855818221424\n",
      "charger 0.0011032437097732476\n",
      "\n",
      "\n",
      "topic 1 : [0. 1. 0. 0. 0.]\n",
      "use 0.0016005790332550098\n",
      "from 0.0013010786090105978\n",
      "quality 0.001284712825501139\n",
      "well 0.001220851687591393\n",
      "when 0.001216342191970681\n",
      "as 0.0011980684952199777\n",
      "one 0.0011977225779862875\n",
      "long 0.0011773769466973095\n",
      "but 0.0011566243651033742\n",
      "now 0.001132885092805652\n",
      "even 0.0011170108429214068\n",
      "too 0.001102458776164671\n",
      "charger 0.0011006182139546533\n",
      "problem 0.001094080027929959\n",
      "worked 0.0010932617077968325\n",
      "\n",
      "\n",
      "topic 2 : [0. 0. 1. 0. 0.]\n",
      "use 0.0017063466972076545\n",
      "but 0.0013803173881903037\n",
      "from 0.0013745216282841652\n",
      "well 0.00133147352047482\n",
      "quality 0.0013215772596465252\n",
      "as 0.0012941341933109455\n",
      "battery 0.001276743723331167\n",
      "when 0.001267737034022019\n",
      "long 0.0012522164349721557\n",
      "worked 0.0011384128486196959\n",
      "one 0.0011368187119071829\n",
      "first 0.0011352702514332738\n",
      "even 0.0011349034714623594\n",
      "had 0.0011298380082622927\n",
      "now 0.001124035374838285\n",
      "\n",
      "\n",
      "topic 3 : [0. 0. 0. 1. 0.]\n",
      "use 0.001375236827698755\n",
      "from 0.0012049903904160473\n",
      "well 0.0011799913274828505\n",
      "long 0.0011773300080269078\n",
      "quality 0.0011749614770753725\n",
      "when 0.001170764115908984\n",
      "as 0.001150649516940676\n",
      "but 0.001138117710818932\n",
      "one 0.0010889821560600256\n",
      "even 0.0010888006591439606\n",
      "charger 0.001074899644764873\n",
      "problem 0.0010742763379562952\n",
      "worked 0.0010737074841142575\n",
      "too 0.0010651244284950716\n",
      "only 0.0010610174488607184\n",
      "\n",
      "\n",
      "topic 4 : [0. 0. 0. 0. 1.]\n",
      "use 0.0015590751847175074\n",
      "from 0.001264721678822904\n",
      "well 0.0012224392955284891\n",
      "when 0.0011906341891529347\n",
      "as 0.0011828022558981268\n",
      "long 0.0011802298017011801\n",
      "quality 0.0011695007688656582\n",
      "one 0.0011580354338610991\n",
      "but 0.0011510617572128169\n",
      "would 0.0011300833205791843\n",
      "too 0.0011146229275418047\n",
      "even 0.0011049230224364158\n",
      "worked 0.0010930785224046947\n",
      "now 0.0010924784290628278\n",
      "charger 0.0010884360082802013\n",
      "\n",
      "\n"
     ]
    }
   ],
   "source": [
    "worddist_momentum_gradient_descent( hiddenUnits, tf.vocabulary_)"
   ]
  },
  {
   "cell_type": "markdown",
   "metadata": {},
   "source": [
    "The output shows the probability assigned to each word for ever topic present."
   ]
  },
  {
   "cell_type": "markdown",
   "metadata": {},
   "source": [
    "## Important Note - I have trained RBM with below two ways:\n",
    "\n",
    "I have experimented Gradient ascend momentum updates, first, and then, have also performed Gradient Descent momentum updates as suggested in the provided notebook.\n",
    "\n",
    "1. worddist_momentum_gradient_ascent is the function to train with Gradient Ascent momentum updates. <br>\n",
    "    𝑚𝑊(𝑡) = 𝛾 𝑚𝑊(𝑡−1) + Δ𝑊 <br>\n",
    "    𝑚𝑣𝑖𝑠𝑖𝑏𝑙𝑒𝑏𝑖𝑎𝑠(𝑡) = 𝛾 * 𝑚𝑣𝑖𝑠𝑖𝑏𝑙𝑒𝑏𝑖𝑎𝑠(𝑡-1) + Δ𝑣𝑖𝑠𝑖𝑏𝑙𝑒𝑏𝑖𝑎𝑠 <br>\n",
    "    𝑚ℎ𝑖𝑑𝑑𝑒𝑛𝑏𝑖𝑎𝑠(𝑡) = 𝛾 * 𝑚ℎ𝑖𝑑𝑑𝑒𝑛𝑏𝑖𝑎𝑠(𝑡−1) + Δℎ𝑖𝑑𝑑𝑒𝑛𝑏𝑖𝑎𝑠 <br>\n",
    "2. worddist_momentum_gradient_descent is the function to train with Gradient Descent momentum updates.\n",
    "    𝑚𝑊(𝑡) = 𝛾 𝑚𝑊(𝑡−1) - Δ𝑊 <br>\n",
    "    𝑚𝑣𝑖𝑠𝑖𝑏𝑙𝑒𝑏𝑖𝑎𝑠(𝑡) = 𝛾 * 𝑚𝑣𝑖𝑠𝑖𝑏𝑙𝑒𝑏𝑖𝑎𝑠(𝑡-1) - Δ𝑣𝑖𝑠𝑖𝑏𝑙𝑒𝑏𝑖𝑎𝑠 <br>\n",
    "    𝑚ℎ𝑖𝑑𝑑𝑒𝑛𝑏𝑖𝑎𝑠(𝑡) = 𝛾 * 𝑚ℎ𝑖𝑑𝑑𝑒𝑛𝑏𝑖𝑎𝑠(𝑡−1) - Δℎ𝑖𝑑𝑑𝑒𝑛𝑏𝑖𝑎𝑠"
   ]
  },
  {
   "cell_type": "code",
   "execution_count": null,
   "metadata": {},
   "outputs": [],
   "source": []
  }
 ],
 "metadata": {
  "anaconda-cloud": {},
  "kernelspec": {
   "display_name": "Python 3",
   "language": "python",
   "name": "python3"
  },
  "language_info": {
   "codemirror_mode": {
    "name": "ipython",
    "version": 3
   },
   "file_extension": ".py",
   "mimetype": "text/x-python",
   "name": "python",
   "nbconvert_exporter": "python",
   "pygments_lexer": "ipython3",
   "version": "3.7.3"
  }
 },
 "nbformat": 4,
 "nbformat_minor": 1
}
